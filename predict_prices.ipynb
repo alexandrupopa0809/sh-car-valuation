{
 "cells": [
  {
   "cell_type": "markdown",
   "metadata": {},
   "source": [
    "# Predict the listing prices of second-hand cars"
   ]
  },
  {
   "cell_type": "code",
   "execution_count": 458,
   "metadata": {},
   "outputs": [],
   "source": [
    "import pandas as pd\n",
    "import numpy as np\n",
    "import matplotlib.pyplot as plt\n",
    "import seaborn as sns\n",
    "from sklearn.preprocessing import LabelEncoder, OneHotEncoder, MultiLabelBinarizer\n",
    "from sklearn.model_selection import train_test_split, GridSearchCV, RandomizedSearchCV\n",
    "from sklearn.compose import ColumnTransformer\n",
    "from sklearn.feature_extraction.text import TfidfVectorizer\n",
    "from sklearn.ensemble import RandomForestRegressor\n",
    "from sklearn.linear_model import LinearRegression\n",
    "from sklearn.svm import SVR\n",
    "import xgboost as xgb\n",
    "from sklearn.metrics import r2_score\n",
    "from random import randint, uniform\n",
    "import json"
   ]
  },
  {
   "cell_type": "markdown",
   "metadata": {},
   "source": [
    "## Data exploration"
   ]
  },
  {
   "cell_type": "code",
   "execution_count": 307,
   "metadata": {},
   "outputs": [
    {
     "data": {
      "text/html": [
       "<div>\n",
       "<style scoped>\n",
       "    .dataframe tbody tr th:only-of-type {\n",
       "        vertical-align: middle;\n",
       "    }\n",
       "\n",
       "    .dataframe tbody tr th {\n",
       "        vertical-align: top;\n",
       "    }\n",
       "\n",
       "    .dataframe thead th {\n",
       "        text-align: right;\n",
       "    }\n",
       "</style>\n",
       "<table border=\"1\" class=\"dataframe\">\n",
       "  <thead>\n",
       "    <tr style=\"text-align: right;\">\n",
       "      <th></th>\n",
       "      <th>marca</th>\n",
       "      <th>model</th>\n",
       "      <th>an</th>\n",
       "      <th>km</th>\n",
       "      <th>putere</th>\n",
       "      <th>cutie_de_viteze</th>\n",
       "      <th>combustibil</th>\n",
       "      <th>capacitate_cilindrica</th>\n",
       "      <th>transmisie</th>\n",
       "      <th>caroserie</th>\n",
       "      <th>culoare</th>\n",
       "      <th>optiuni_culoare</th>\n",
       "      <th>addons</th>\n",
       "      <th>pret</th>\n",
       "      <th>id</th>\n",
       "    </tr>\n",
       "  </thead>\n",
       "  <tbody>\n",
       "    <tr>\n",
       "      <th>0</th>\n",
       "      <td>Opel</td>\n",
       "      <td>Opel_Astra</td>\n",
       "      <td>2008</td>\n",
       "      <td>283100</td>\n",
       "      <td>115</td>\n",
       "      <td>Manuala</td>\n",
       "      <td>Benzina + CNG/GPL</td>\n",
       "      <td>1598</td>\n",
       "      <td>Fata</td>\n",
       "      <td>Masina de oras</td>\n",
       "      <td>Gri</td>\n",
       "      <td>Metalizata</td>\n",
       "      <td>[Radio, Sistem audio, Control vocal, Climatron...</td>\n",
       "      <td>3650</td>\n",
       "      <td>0</td>\n",
       "    </tr>\n",
       "    <tr>\n",
       "      <th>1</th>\n",
       "      <td>Volkswagen</td>\n",
       "      <td>Volkswagen_Tiguan</td>\n",
       "      <td>2017</td>\n",
       "      <td>215994</td>\n",
       "      <td>190</td>\n",
       "      <td>Automata</td>\n",
       "      <td>Diesel</td>\n",
       "      <td>1968</td>\n",
       "      <td>4x4 (automat)</td>\n",
       "      <td>SUV</td>\n",
       "      <td>Negru</td>\n",
       "      <td>Metalizata</td>\n",
       "      <td>[Apple Carplay, Bluetooth, Radio, Sistem navig...</td>\n",
       "      <td>17950</td>\n",
       "      <td>1</td>\n",
       "    </tr>\n",
       "  </tbody>\n",
       "</table>\n",
       "</div>"
      ],
      "text/plain": [
       "        marca              model    an      km  putere cutie_de_viteze  \\\n",
       "0        Opel         Opel_Astra  2008  283100     115         Manuala   \n",
       "1  Volkswagen  Volkswagen_Tiguan  2017  215994     190        Automata   \n",
       "\n",
       "         combustibil  capacitate_cilindrica     transmisie       caroserie  \\\n",
       "0  Benzina + CNG/GPL                   1598           Fata  Masina de oras   \n",
       "1             Diesel                   1968  4x4 (automat)             SUV   \n",
       "\n",
       "  culoare optiuni_culoare                                             addons  \\\n",
       "0     Gri      Metalizata  [Radio, Sistem audio, Control vocal, Climatron...   \n",
       "1   Negru      Metalizata  [Apple Carplay, Bluetooth, Radio, Sistem navig...   \n",
       "\n",
       "    pret  id  \n",
       "0   3650   0  \n",
       "1  17950   1  "
      ]
     },
     "execution_count": 307,
     "metadata": {},
     "output_type": "execute_result"
    }
   ],
   "source": [
    "df = pd.read_json(\"data/train.json\")\n",
    "test_df = pd.read_json(\"data/test.json\")\n",
    "df.head(2)"
   ]
  },
  {
   "cell_type": "code",
   "execution_count": 3,
   "metadata": {},
   "outputs": [
    {
     "name": "stdout",
     "output_type": "stream",
     "text": [
      "<class 'pandas.core.frame.DataFrame'>\n",
      "RangeIndex: 20245 entries, 0 to 20244\n",
      "Data columns (total 15 columns):\n",
      " #   Column                 Non-Null Count  Dtype \n",
      "---  ------                 --------------  ----- \n",
      " 0   marca                  20245 non-null  object\n",
      " 1   model                  20245 non-null  object\n",
      " 2   an                     20245 non-null  int64 \n",
      " 3   km                     20245 non-null  int64 \n",
      " 4   putere                 20245 non-null  int64 \n",
      " 5   cutie_de_viteze        20245 non-null  object\n",
      " 6   combustibil            20245 non-null  object\n",
      " 7   capacitate_cilindrica  20245 non-null  int64 \n",
      " 8   transmisie             20245 non-null  object\n",
      " 9   caroserie              20245 non-null  object\n",
      " 10  culoare                20245 non-null  object\n",
      " 11  optiuni_culoare        20245 non-null  object\n",
      " 12  addons                 20245 non-null  object\n",
      " 13  pret                   20245 non-null  int64 \n",
      " 14  id                     20245 non-null  int64 \n",
      "dtypes: int64(6), object(9)\n",
      "memory usage: 2.3+ MB\n"
     ]
    }
   ],
   "source": [
    "df.info()"
   ]
  },
  {
   "cell_type": "code",
   "execution_count": 18,
   "metadata": {},
   "outputs": [
    {
     "name": "stdout",
     "output_type": "stream",
     "text": [
      "How many car brands? 52\n",
      "The price ranges from 250 to 99980\n",
      "The mileage ranges from 1 to 450000\n",
      "Number of cars with manual transmission 8393 vs automatic 11852\n"
     ]
    }
   ],
   "source": [
    "print(\"How many car brands?\", df[\"marca\"].nunique())\n",
    "print(f\"The price ranges from {df['pret'].min()} to {df['pret'].max()}\")\n",
    "print(f\"The mileage ranges from {df['km'].min()} to {df['km'].max()}\")\n",
    "\n",
    "transmission_counts = df[\"cutie_de_viteze\"].value_counts()\n",
    "print(f\"Number of cars with manual transmission {transmission_counts.get('Manuala')} vs automatic {transmission_counts.get('Automata')}\")"
   ]
  },
  {
   "cell_type": "code",
   "execution_count": 16,
   "metadata": {},
   "outputs": [
    {
     "data": {
      "text/plain": [
       "marca\n",
       "Volkswagen        2765\n",
       "BMW               2718\n",
       "Mercedes-Benz     2129\n",
       "Audi              1896\n",
       "Ford              1397\n",
       "Skoda             1256\n",
       "Renault            991\n",
       "Dacia              961\n",
       "Opel               708\n",
       "Toyota             578\n",
       "Volvo              557\n",
       "Peugeot            441\n",
       "Nissan             418\n",
       "Land Rover         391\n",
       "Hyundai            388\n",
       "Mazda              309\n",
       "Seat               270\n",
       "Kia                264\n",
       "Citroën            215\n",
       "Porsche            198\n",
       "Mitsubishi         147\n",
       "Fiat               146\n",
       "Jeep               137\n",
       "Suzuki             128\n",
       "Honda              122\n",
       "Jaguar             114\n",
       "Mini               111\n",
       "Lexus               95\n",
       "Alfa Romeo          86\n",
       "Maserati            48\n",
       "Chevrolet           45\n",
       "SsangYong           41\n",
       "Smart               31\n",
       "Subaru              30\n",
       "Cupra               21\n",
       "DS Automobiles      17\n",
       "Dodge               14\n",
       "Infiniti            10\n",
       "Aixam                9\n",
       "Iveco                6\n",
       "Bentley              6\n",
       "Lancia               5\n",
       "Isuzu                5\n",
       "GMC                  4\n",
       "Saab                 3\n",
       "Chrysler             2\n",
       "Cadillac             2\n",
       "Altul                2\n",
       "Lada                 2\n",
       "Abarth               2\n",
       "Aston Martin         2\n",
       "Lincoln              2\n",
       "Name: count, dtype: int64"
      ]
     },
     "execution_count": 16,
     "metadata": {},
     "output_type": "execute_result"
    }
   ],
   "source": [
    "df[\"marca\"].value_counts()"
   ]
  },
  {
   "cell_type": "code",
   "execution_count": 15,
   "metadata": {},
   "outputs": [
    {
     "data": {
      "text/plain": [
       "an\n",
       "2018    2810\n",
       "2019    2096\n",
       "2017    2096\n",
       "2016    1420\n",
       "2022    1255\n",
       "2015    1114\n",
       "2020    1102\n",
       "2012    1100\n",
       "2011    1058\n",
       "2014    1027\n",
       "2021     972\n",
       "2013     969\n",
       "2010     709\n",
       "2009     575\n",
       "2008     506\n",
       "2007     402\n",
       "2006     311\n",
       "2023     235\n",
       "2005     182\n",
       "2004     107\n",
       "2003      79\n",
       "2001      51\n",
       "2002      49\n",
       "2000      20\n",
       "Name: count, dtype: int64"
      ]
     },
     "execution_count": 15,
     "metadata": {},
     "output_type": "execute_result"
    }
   ],
   "source": [
    "df[\"an\"].value_counts()"
   ]
  },
  {
   "cell_type": "code",
   "execution_count": 17,
   "metadata": {},
   "outputs": [
    {
     "data": {
      "text/plain": [
       "capacitate_cilindrica\n",
       "1968    2734\n",
       "1995    1719\n",
       "1598    1622\n",
       "1461    1198\n",
       "2993     978\n",
       "        ... \n",
       "996        1\n",
       "5935       1\n",
       "2178       1\n",
       "2972       1\n",
       "3696       1\n",
       "Name: count, Length: 307, dtype: int64"
      ]
     },
     "execution_count": 17,
     "metadata": {},
     "output_type": "execute_result"
    }
   ],
   "source": [
    "df[\"capacitate_cilindrica\"].value_counts()"
   ]
  },
  {
   "cell_type": "markdown",
   "metadata": {},
   "source": [
    "### Plot the number of cars against the a given column"
   ]
  },
  {
   "cell_type": "code",
   "execution_count": 22,
   "metadata": {},
   "outputs": [],
   "source": [
    "def plot_car_count_vs_column(dataframe, column_name):\n",
    "    car_count = dataframe[column_name].value_counts()\n",
    "    plt.figure(figsize=(10, 6))\n",
    "    car_count.plot(kind=\"bar\", color=\"green\")\n",
    "    plt.title(f\"Number of cars vs {column_name}\")\n",
    "    plt.xlabel(column_name)\n",
    "    plt.ylabel(\"Number of cars\")\n",
    "    plt.xticks(rotation=45)\n",
    "    plt.tight_layout()\n",
    "    plt.show()"
   ]
  },
  {
   "cell_type": "code",
   "execution_count": 23,
   "metadata": {},
   "outputs": [
    {
     "data": {
      "image/png": "[encoded data removed]",
      "text/plain": [
       "<Figure size 1000x600 with 1 Axes>"
      ]
     },
     "metadata": {},
     "output_type": "display_data"
    }
   ],
   "source": [
    "plot_car_count_vs_column(df, \"combustibil\")"
   ]
  },
  {
   "cell_type": "code",
   "execution_count": 24,
   "metadata": {},
   "outputs": [
    {
     "data": {
      "image/png": "[encoded data removed]",
      "text/plain": [
       "<Figure size 1000x600 with 1 Axes>"
      ]
     },
     "metadata": {},
     "output_type": "display_data"
    }
   ],
   "source": [
    "plot_car_count_vs_column(df, \"transmisie\")"
   ]
  },
  {
   "cell_type": "code",
   "execution_count": 25,
   "metadata": {},
   "outputs": [
    {
     "data": {
      "image/png": "[encoded data removed]",
      "text/plain": [
       "<Figure size 1000x600 with 1 Axes>"
      ]
     },
     "metadata": {},
     "output_type": "display_data"
    }
   ],
   "source": [
    "plot_car_count_vs_column(df, \"caroserie\")"
   ]
  },
  {
   "cell_type": "markdown",
   "metadata": {},
   "source": [
    "### Visualize the distribution of cars based on intervals of mileage (50k)"
   ]
  },
  {
   "cell_type": "code",
   "execution_count": 19,
   "metadata": {},
   "outputs": [
    {
     "data": {
      "image/png": "[encoded data removed]",
      "text/plain": [
       "<Figure size 1000x600 with 1 Axes>"
      ]
     },
     "metadata": {},
     "output_type": "display_data"
    }
   ],
   "source": [
    "interval_ranges = [\n",
    "    0,\n",
    "    50000,\n",
    "    100000,\n",
    "    150000,\n",
    "    200000,\n",
    "    250000,\n",
    "    300000,\n",
    "    350000,\n",
    "    400000,\n",
    "    450000,\n",
    "]\n",
    "interval_labels = [\n",
    "    \"0-50k\",\n",
    "    \"50k-100k\",\n",
    "    \"100k-150k\",\n",
    "    \"150k-200k\",\n",
    "    \"200k-250k\",\n",
    "    \"250k-300k\",\n",
    "    \"300k-350k\",\n",
    "    \"350k-400k\",\n",
    "    \"400k-450k\",\n",
    "]\n",
    "\n",
    "df_intervals = pd.cut(\n",
    "    df[\"km\"], bins=interval_ranges, labels=interval_labels, right=False\n",
    ")\n",
    "interval_counts = df_intervals.value_counts().sort_index()\n",
    "\n",
    "plt.figure(figsize=(10, 6))\n",
    "interval_counts.plot(kind=\"bar\", color=\"red\")\n",
    "plt.title(\"Number of Cars vs Mileage Intervals\")\n",
    "plt.xlabel(\"Mileage Intervals\")\n",
    "plt.ylabel(\"Number of Cars\")\n",
    "plt.xticks(rotation=45)\n",
    "plt.tight_layout()\n",
    "plt.show()"
   ]
  },
  {
   "cell_type": "markdown",
   "metadata": {},
   "source": [
    "## Preprocessing"
   ]
  },
  {
   "cell_type": "markdown",
   "metadata": {},
   "source": [
    "### Make copy of dataframe"
   ]
  },
  {
   "cell_type": "code",
   "execution_count": 430,
   "metadata": {},
   "outputs": [],
   "source": [
    "df_tmp = df.copy()\n",
    "df_tmp.drop(\"id\", axis=1, inplace=True)"
   ]
  },
  {
   "cell_type": "markdown",
   "metadata": {},
   "source": [
    "### Preprocess `make` and `model`\n",
    "* A. Keep both columns and remove chars before `_` for the `model` column\n",
    "* B. Drop `make` column and split `model` by `_`"
   ]
  },
  {
   "cell_type": "code",
   "execution_count": 431,
   "metadata": {},
   "outputs": [],
   "source": [
    "# A\n",
    "df_tmp[\"model\"] = df_tmp[\"model\"].apply(lambda x: x.split(\"_\")[-1])\n",
    "\n",
    "# remove rows containing ['']\n",
    "df_tmp = df_tmp[df_tmp.astype(str)[\"addons\"] != \"['']\"]"
   ]
  },
  {
   "cell_type": "markdown",
   "metadata": {},
   "source": [
    "### Split dataframe before preprocessing"
   ]
  },
  {
   "cell_type": "code",
   "execution_count": 432,
   "metadata": {},
   "outputs": [
    {
     "data": {
      "text/plain": [
       "((15071, 13), (3768, 13), (15071,), (3768,))"
      ]
     },
     "execution_count": 432,
     "metadata": {},
     "output_type": "execute_result"
    }
   ],
   "source": [
    "X = df_tmp.drop(\"pret\", axis=1)\n",
    "y = df_tmp[\"pret\"]\n",
    "X_train, X_test, y_train, y_test = train_test_split(X, y, test_size=0.2, random_state=42)\n",
    "X_train.shape, X_test.shape, y_train.shape, y_test.shape"
   ]
  },
  {
   "cell_type": "markdown",
   "metadata": {},
   "source": [
    "### Encode make and model with LabelEncoder"
   ]
  },
  {
   "cell_type": "code",
   "execution_count": 433,
   "metadata": {},
   "outputs": [],
   "source": [
    "# assign unique integers with label encoder\n",
    "def encode_model_and_make(X):\n",
    "    label_encoder = LabelEncoder()\n",
    "    X[\"marca\"] = label_encoder.fit_transform(X[\"marca\"])\n",
    "    X[\"model\"] = label_encoder.fit_transform(X[\"model\"])\n",
    "    return X\n",
    "\n",
    "X_train = encode_model_and_make(X_train)\n",
    "X_test = encode_model_and_make(X_test)"
   ]
  },
  {
   "cell_type": "markdown",
   "metadata": {},
   "source": [
    "### Encode `addons`"
   ]
  },
  {
   "cell_type": "code",
   "execution_count": 434,
   "metadata": {},
   "outputs": [],
   "source": [
    "def encode_extra_options(df):\n",
    "    mlb = MultiLabelBinarizer()\n",
    "    encoded_data = mlb.fit_transform(df[\"addons\"])\n",
    "    encoded_df = pd.DataFrame(encoded_data, columns=mlb.classes_)\n",
    "    result = pd.concat([df, encoded_df], axis=1)\n",
    "    result.drop(\"addons\", axis=1, inplace=True)\n",
    "    return result"
   ]
  },
  {
   "cell_type": "code",
   "execution_count": 397,
   "metadata": {},
   "outputs": [],
   "source": [
    "X_train = encode_extra_options(X_train)\n",
    "X_test = encode_extra_options(X_test)"
   ]
  },
  {
   "cell_type": "markdown",
   "metadata": {},
   "source": [
    "### Drop rows containing `NaN` values after encoding"
   ]
  },
  {
   "cell_type": "code",
   "execution_count": 398,
   "metadata": {},
   "outputs": [
    {
     "name": "stdout",
     "output_type": "stream",
     "text": [
      "(11166, 194)\n",
      "(685, 193)\n"
     ]
    }
   ],
   "source": [
    "X_train.dropna(inplace=True)\n",
    "print(X_train.shape)\n",
    "\n",
    "X_test.dropna(inplace=True)\n",
    "print(X_test.shape)"
   ]
  },
  {
   "cell_type": "markdown",
   "metadata": {},
   "source": [
    "### Encode cateogorical columns with one-hot encoding"
   ]
  },
  {
   "cell_type": "code",
   "execution_count": 435,
   "metadata": {},
   "outputs": [],
   "source": [
    "categorical_columns = [\"cutie_de_viteze\", \"transmisie\", \"caroserie\", \"combustibil\", \"optiuni_culoare\", \"culoare\"]\n",
    "\n",
    "for column in categorical_columns:\n",
    "    X_train[column] = X_train[column].astype(\"category\")\n",
    "    X_test[column] = X_test[column].astype(\"category\")"
   ]
  },
  {
   "cell_type": "code",
   "execution_count": 436,
   "metadata": {},
   "outputs": [],
   "source": [
    "X_train.drop(\"addons\", axis=1, inplace=True)\n",
    "X_test.drop(\"addons\", axis=1, inplace=True)"
   ]
  },
  {
   "cell_type": "code",
   "execution_count": 437,
   "metadata": {},
   "outputs": [],
   "source": [
    "one_hot = OneHotEncoder()\n",
    "transformer = ColumnTransformer(\n",
    "    [\n",
    "        (\"one_hot\", one_hot, categorical_columns),\n",
    "    ],\n",
    "    remainder=\"passthrough\")\n",
    "transformed_X_train = transformer.fit_transform(X_train)\n",
    "transformed_X_test = transformer.transform(X_test)"
   ]
  },
  {
   "cell_type": "markdown",
   "metadata": {},
   "source": [
    "## Modeling"
   ]
  },
  {
   "cell_type": "code",
   "execution_count": 440,
   "metadata": {},
   "outputs": [
    {
     "data": {
      "text/plain": [
       "{'Linear Regression': 0.7914462868080687,\n",
       " 'Random Forest': 0.9263797768452264,\n",
       " 'Support Vectort Machine': -0.005157043023501284,\n",
       " 'XGBoost': 0.9134121042821917}"
      ]
     },
     "execution_count": 440,
     "metadata": {},
     "output_type": "execute_result"
    }
   ],
   "source": [
    "models = {\n",
    "    \"Linear Regression\": LinearRegression(),\n",
    "    \"Random Forest\": RandomForestRegressor(),\n",
    "    \"Support Vectort Machine\": SVR(),\n",
    "    \"XGBoost\": xgb.XGBRegressor(),\n",
    "}\n",
    "\n",
    "def fit_and_score(models, X_train, X_test, y_train, y_test):\n",
    "    np.random.seed(42)\n",
    "\n",
    "    model_scores = {}\n",
    "    for name, model in models.items():\n",
    "        model.fit(X_train, y_train)\n",
    "        preds = model.predict(X_test)\n",
    "        model_scores[name] = r2_score(y_test, preds)\n",
    "    return model_scores\n",
    "\n",
    "fit_and_score(models, transformed_X_train, transformed_X_test, y_train, y_test)"
   ]
  },
  {
   "cell_type": "markdown",
   "metadata": {},
   "source": [
    "## Hyperparameters tuning"
   ]
  },
  {
   "cell_type": "markdown",
   "metadata": {},
   "source": [
    "### Random Forest"
   ]
  },
  {
   "cell_type": "code",
   "execution_count": 445,
   "metadata": {},
   "outputs": [
    {
     "name": "stdout",
     "output_type": "stream",
     "text": [
      "Fitting 5 folds for each of 540 candidates, totalling 2700 fits\n"
     ]
    },
    {
     "name": "stderr",
     "output_type": "stream",
     "text": [
      "/Users/alex9popa/Library/Python/3.9/lib/python/site-packages/joblib/externals/loky/process_executor.py:752: UserWarning: A worker stopped while some jobs were given to the executor. This can be caused by a too short worker timeout or by a memory leak.\n",
      "  warnings.warn(\n"
     ]
    },
    {
     "name": "stdout",
     "output_type": "stream",
     "text": [
      "R2 score: 0.9267175053200253\n",
      "Best Hyperparameters: {'bootstrap': True, 'max_depth': None, 'min_samples_leaf': 1, 'min_samples_split': 2, 'n_estimators': 150}\n"
     ]
    }
   ],
   "source": [
    "rf = RandomForestRegressor(random_state=42)\n",
    "\n",
    "param_grid = {\n",
    "    \"n_estimators\": [50, 100, 150, 200, 300, 400],\n",
    "    \"max_depth\": [None, 3, 5, 10, 15],\n",
    "    \"min_samples_split\": [2, 5, 10],\n",
    "    \"min_samples_leaf\": [1, 2, 4],\n",
    "    \"bootstrap\": [True, False],\n",
    "}\n",
    "\n",
    "grid_search = GridSearchCV(\n",
    "    estimator=rf,\n",
    "    param_grid=param_grid,\n",
    "    cv=5,\n",
    "    scoring=\"r2\",\n",
    "    verbose=1,\n",
    "    n_jobs=-1,\n",
    ")\n",
    "grid_search.fit(transformed_X_train, y_train)\n",
    "\n",
    "best_params = grid_search.best_params_\n",
    "best_rf_model = grid_search.best_estimator_\n",
    "\n",
    "preds = best_rf_model.predict(transformed_X_test)\n",
    "\n",
    "r2 = r2_score(y_test, preds)\n",
    "print(f\"R2 score: {r2}\")\n",
    "print(f\"Best Hyperparameters: {best_params}\")"
   ]
  },
  {
   "cell_type": "markdown",
   "metadata": {},
   "source": [
    "### XG boost"
   ]
  },
  {
   "cell_type": "code",
   "execution_count": null,
   "metadata": {},
   "outputs": [],
   "source": [
    "xgb_reg = xgb.XGBRegressor()\n",
    "\n",
    "max_depth = [3, 5, 7, 10, 20, 30]\n",
    "booster = [\"gbtree\", \"gblinear\", \"dart\"]\n",
    "subsample = [0.2, 0.5, 0.7, 1.0]\n",
    "colsample_bytree = [0.1, 0.25, 0.5, None]\n",
    "n_estimators = [50, 100, 150, 200, 300, 500]\n",
    "learning_rates = [0.15, 0.01, 0.001, 0.05, 0.5]\n",
    "reg_alpha =  [0, 0.01, 0.1, 1, 10]\n",
    "min_child_weights =  [1, 3, 5, 7]\n",
    "gamma = [0, 0.1, 0.2, 0.3]\n",
    "\n",
    "random_grid = {\n",
    "    \"max_depth\": max_depth,\n",
    "    \"booster\": booster,\n",
    "    \"subsample\": subsample,\n",
    "    \"colsample_bytree\": colsample_bytree,\n",
    "    \"n_estimators\": n_estimators,\n",
    "    \"learning_rate\": learning_rates,\n",
    "    \"min_child_weight\": min_child_weights,\n",
    "    \"reg_alpha\": reg_alpha,\n",
    "    \"gamma\": gamma,\n",
    "}\n",
    "\n",
    "random_search = RandomizedSearchCV(\n",
    "    estimator=xgb_reg,\n",
    "    param_distributions=random_grid,\n",
    "    n_iter=100,\n",
    "    cv=5,\n",
    "    scoring=\"r2\",\n",
    "    random_state=42,\n",
    "    n_jobs=-1,\n",
    ")\n",
    "random_search.fit(transformed_X_train, y_train)\n",
    "\n",
    "best_params = random_search.best_params_\n",
    "best_xgb_model = random_search.best_estimator_\n",
    "\n",
    "preds = best_xgb_model.predict(transformed_X_test)\n",
    "\n",
    "r2 = r2_score(y_test, preds)\n",
    "print(f\"R2 score: {r2}\")\n",
    "print(f\"Best Hyperparameters: {best_params}\")"
   ]
  },
  {
   "cell_type": "markdown",
   "metadata": {},
   "source": [
    "## Construct `test.json`"
   ]
  },
  {
   "cell_type": "code",
   "execution_count": 453,
   "metadata": {},
   "outputs": [
    {
     "data": {
      "text/plain": [
       "(5045, 13)"
      ]
     },
     "execution_count": 453,
     "metadata": {},
     "output_type": "execute_result"
    }
   ],
   "source": [
    "test_df = pd.read_json(\"data/test.json\")\n",
    "X = test_df.copy()\n",
    "\n",
    "X.drop(\"id\", axis=1, inplace=True)\n",
    "X.drop(\"addons\", axis=1, inplace=True)\n",
    "X.shape"
   ]
  },
  {
   "cell_type": "code",
   "execution_count": 454,
   "metadata": {},
   "outputs": [
    {
     "data": {
      "text/plain": [
       "5045"
      ]
     },
     "execution_count": 454,
     "metadata": {},
     "output_type": "execute_result"
    }
   ],
   "source": [
    "X = encode_model_and_make(X)\n",
    "\n",
    "for column in categorical_columns:\n",
    "    X[column] = X[column].astype(\"category\")\n",
    "\n",
    "transformed_X = transformer.transform(X)\n",
    "preds = best_rf_model.predict(transformed_X)\n",
    "len(preds)"
   ]
  },
  {
   "cell_type": "code",
   "execution_count": 455,
   "metadata": {},
   "outputs": [
    {
     "data": {
      "text/plain": [
       "array([25632.62      , 10188.33333333,  5870.65333333,  2182.        ,\n",
       "       38939.32      , 37668.        ,  2543.88      , 11201.09333333,\n",
       "       17642.36      ,  9914.82666667])"
      ]
     },
     "execution_count": 455,
     "metadata": {},
     "output_type": "execute_result"
    }
   ],
   "source": [
    "preds[:10]"
   ]
  },
  {
   "cell_type": "code",
   "execution_count": 457,
   "metadata": {},
   "outputs": [
    {
     "data": {
      "text/plain": [
       "0       25632.620000\n",
       "1       10188.333333\n",
       "2        5870.653333\n",
       "3        2182.000000\n",
       "4       38939.320000\n",
       "            ...     \n",
       "5040     3476.566667\n",
       "5041    44803.026667\n",
       "5042     5720.153333\n",
       "5043     4214.833333\n",
       "5044    20651.166667\n",
       "Name: pret, Length: 5045, dtype: float64"
      ]
     },
     "execution_count": 457,
     "metadata": {},
     "output_type": "execute_result"
    }
   ],
   "source": [
    "test_df[\"pret\"] = preds\n",
    "test_df[\"pret\"]"
   ]
  },
  {
   "cell_type": "code",
   "execution_count": 459,
   "metadata": {},
   "outputs": [],
   "source": [
    "with open(\"data/filled_test.json\", \"w\") as file:\n",
    "    json.dump(test_df.to_dict(orient=\"records\"), file, indent=4)"
   ]
  }
 ],
 "metadata": {
  "kernelspec": {
   "display_name": "Python 3",
   "language": "python",
   "name": "python3"
  },
  "language_info": {
   "codemirror_mode": {
    "name": "ipython",
    "version": 3
   },
   "file_extension": ".py",
   "mimetype": "text/x-python",
   "name": "python",
   "nbconvert_exporter": "python",
   "pygments_lexer": "ipython3",
   "version": "3.9.6"
  }
 },
 "nbformat": 4,
 "nbformat_minor": 2
}
